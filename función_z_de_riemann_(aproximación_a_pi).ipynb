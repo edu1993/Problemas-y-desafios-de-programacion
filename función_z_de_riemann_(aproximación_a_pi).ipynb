{
  "nbformat": 4,
  "nbformat_minor": 0,
  "metadata": {
    "colab": {
      "provenance": [],
      "authorship_tag": "ABX9TyNxy8tji9RAECjuvwv3IzZN",
      "include_colab_link": true
    },
    "kernelspec": {
      "name": "python3",
      "display_name": "Python 3"
    },
    "language_info": {
      "name": "python"
    }
  },
  "cells": [
    {
      "cell_type": "markdown",
      "metadata": {
        "id": "view-in-github",
        "colab_type": "text"
      },
      "source": [
        "<a href=\"https://colab.research.google.com/github/edu1993/Problemas-con-python/blob/main/funci%C3%B3n_z_de_riemann_(aproximaci%C3%B3n_a_pi).ipynb\" target=\"_parent\"><img src=\"https://colab.research.google.com/assets/colab-badge.svg\" alt=\"Open In Colab\"/></a>"
      ]
    },
    {
      "cell_type": "code",
      "execution_count": 9,
      "metadata": {
        "colab": {
          "base_uri": "https://localhost:8080/"
        },
        "id": "vXSfK50xyS7P",
        "outputId": "daf59e01-d6ec-4a24-b3ab-be81cbf38a4a"
      },
      "outputs": [
        {
          "output_type": "stream",
          "name": "stdout",
          "text": [
            "3.141592558095893\n"
          ]
        }
      ],
      "source": [
        "n=0\n",
        "for i in range(1,10000000):\n",
        "    n+=1/(i)**2\n",
        "pi=pow(n*6,0.5)\n",
        "print(pi)"
      ]
    }
  ]
}